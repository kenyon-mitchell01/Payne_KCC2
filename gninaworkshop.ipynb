{
  "nbformat": 4,
  "nbformat_minor": 0,
  "metadata": {
    "colab": {
      "provenance": [],
      "include_colab_link": true
    },
    "kernelspec": {
      "name": "python3",
      "display_name": "Python 3"
    },
    "language_info": {
      "name": "python"
    },
    "accelerator": "GPU"
  },
  "cells": [
    {
      "cell_type": "markdown",
      "metadata": {
        "id": "view-in-github",
        "colab_type": "text"
      },
      "source": [
        "<a href=\"https://colab.research.google.com/github/kenyon-mitchell01/Payne_KCC2/blob/main/gninaworkshop.ipynb\" target=\"_parent\"><img src=\"https://colab.research.google.com/assets/colab-badge.svg\" alt=\"Open In Colab\"/></a>"
      ]
    },
    {
      "cell_type": "markdown",
      "metadata": {
        "id": "Qhgslkr9RQVD"
      },
      "source": [
        "# Getting Setup"
      ]
    },
    {
      "cell_type": "code",
      "metadata": {
        "id": "5xipLWWMiG8i"
      },
      "source": [
        "!apt install openbabel"
      ],
      "execution_count": null,
      "outputs": []
    },
    {
      "cell_type": "code",
      "metadata": {
        "id": "WepFi9Iq3SpR"
      },
      "source": [
        "!wget -c https://repo.continuum.io/miniconda/Miniconda3-latest-Linux-x86_64.sh\n",
        "!chmod +x Miniconda3-latest-Linux-x86_64.sh\n",
        "!bash ./Miniconda3-latest-Linux-x86_64.sh -b -f -p /usr/local"
      ],
      "execution_count": null,
      "outputs": []
    },
    {
      "cell_type": "code",
      "metadata": {
        "id": "G1_Jjh8ShtRn"
      },
      "source": [
        "!conda install -q -y -c conda-forge openbabel"
      ],
      "execution_count": null,
      "outputs": []
    },
    {
      "cell_type": "code",
      "metadata": {
        "id": "SWSwzgSsiBg3"
      },
      "source": [
        "import sys\n",
        "sys.path.append('/usr/local/lib/python3.8/site-packages/')"
      ],
      "execution_count": null,
      "outputs": []
    },
    {
      "cell_type": "code",
      "metadata": {
        "id": "61kJ7OKcKr9E"
      },
      "source": [
        "!pip install py3Dmol"
      ],
      "execution_count": null,
      "outputs": []
    },
    {
      "cell_type": "code",
      "metadata": {
        "id": "ZcFPYBzaJDFQ"
      },
      "source": [
        "!wget https://downloads.sourceforge.net/project/smina/smina.static"
      ],
      "execution_count": null,
      "outputs": []
    },
    {
      "cell_type": "code",
      "metadata": {
        "id": "zkFD5W8bJkfd"
      },
      "source": [
        "!wget https://github.com/gnina/gnina/releases/download/v1.0.1/gnina"
      ],
      "execution_count": null,
      "outputs": []
    },
    {
      "cell_type": "code",
      "metadata": {
        "id": "Fh6kIim8J_kS"
      },
      "source": [
        "!chmod +x gnina"
      ],
      "execution_count": null,
      "outputs": []
    },
    {
      "cell_type": "code",
      "metadata": {
        "id": "0Bihh7ZKKBnC"
      },
      "source": [
        "!./gnina"
      ],
      "execution_count": null,
      "outputs": []
    },
    {
      "cell_type": "markdown",
      "metadata": {
        "id": "nQ0kP3f2RePW"
      },
      "source": [
        "# Example"
      ]
    },
    {
      "cell_type": "code",
      "metadata": {
        "id": "5wUXrQyoKCls"
      },
      "source": [
        "!wget http://files.rcsb.org/download/3ERK.pdb"
      ],
      "execution_count": null,
      "outputs": []
    },
    {
      "cell_type": "code",
      "metadata": {
        "id": "VyKx3tD6Ke_M"
      },
      "source": [
        "!grep ATOM 3ERK.pdb > rec.pdb\n",
        "!obabel rec.pdb -Orec.pdb"
      ],
      "execution_count": null,
      "outputs": []
    },
    {
      "cell_type": "code",
      "metadata": {
        "id": "ScPGAtieKhSI"
      },
      "source": [
        "!grep SB4 3ERK.pdb > lig.pdb"
      ],
      "execution_count": null,
      "outputs": []
    },
    {
      "cell_type": "code",
      "metadata": {
        "id": "PjISBUUqKkpf"
      },
      "source": [
        "import py3Dmol\n",
        "v = py3Dmol.view()\n",
        "v.addModel(open('rec.pdb').read())\n",
        "v.setStyle({'cartoon':{},'stick':{'radius':0.15}})\n",
        "v.addModel(open('lig.pdb').read())\n",
        "v.setStyle({'model':1},{'stick':{'colorscheme':'greenCarbon'}})\n",
        "v.zoomTo({'model':1})"
      ],
      "execution_count": null,
      "outputs": []
    },
    {
      "cell_type": "code",
      "metadata": {
        "id": "353AUMS_KqQW"
      },
      "source": [
        "!obabel -:'C1CNCCC1n1cnc(c2ccc(cc2)F)c1c1ccnc(n1)N' -Ol2.sdf --gen2D"
      ],
      "execution_count": null,
      "outputs": []
    },
    {
      "cell_type": "code",
      "metadata": {
        "id": "Faye1n_fN7SK"
      },
      "source": [
        "v = py3Dmol.view()\n",
        "v.addModel(open('l2.sdf').read())\n",
        "v.setStyle({'stick':{'colorscheme':'greenCarbon'}})\n",
        "v.zoomTo()"
      ],
      "execution_count": null,
      "outputs": []
    },
    {
      "cell_type": "code",
      "metadata": {
        "id": "OQlecrHbOgWn"
      },
      "source": [
        "!obabel -:'C1CNCCC1n1cnc(c2ccc(cc2)F)c1c1ccnc(n1)N' -Ol3.sdf --gen3D"
      ],
      "execution_count": null,
      "outputs": []
    },
    {
      "cell_type": "code",
      "metadata": {
        "id": "7DzqWcZn7U0A"
      },
      "source": [
        "v = py3Dmol.view()\n",
        "v.addModel(open('l3.sdf').read())\n",
        "v.setStyle({'stick':{'colorscheme':'greenCarbon'}})\n",
        "v.zoomTo()"
      ],
      "execution_count": null,
      "outputs": []
    },
    {
      "cell_type": "markdown",
      "metadata": {
        "id": "nmMR0sbTRktT"
      },
      "source": [
        "# Simple Docking"
      ]
    },
    {
      "cell_type": "code",
      "metadata": {
        "id": "VuG4YDZQ7XIf"
      },
      "source": [
        "!./gnina -r rec.pdb -l lig.pdb --autobox_ligand lig.pdb"
      ],
      "execution_count": null,
      "outputs": []
    },
    {
      "cell_type": "code",
      "metadata": {
        "id": "BrgAAkFIEh5u"
      },
      "source": [
        "!./gnina -r rec.pdb -l lig.pdb --autobox_ligand lig.pdb --seed 0 -o docked.sdf.gz"
      ],
      "execution_count": null,
      "outputs": []
    },
    {
      "cell_type": "code",
      "metadata": {
        "id": "SOKVTi9eFEUx"
      },
      "source": [
        "!gunzip docked.sdf.gz #older openbabel has trouble with gzipped files"
      ],
      "execution_count": null,
      "outputs": []
    },
    {
      "cell_type": "code",
      "metadata": {
        "id": "gOhHgXp4Ek1U"
      },
      "source": [
        "!obrms -firstonly lig.pdb docked.sdf"
      ],
      "execution_count": null,
      "outputs": []
    },
    {
      "cell_type": "code",
      "metadata": {
        "id": "d7y8w1ncE0St"
      },
      "source": [
        "import gzip\n",
        "v = py3Dmol.view()\n",
        "v.addModel(open('rec.pdb').read())\n",
        "v.setStyle({'cartoon':{},'stick':{'radius':.1}})\n",
        "v.addModel(open('lig.pdb').read())\n",
        "v.setStyle({'model':1},{'stick':{'colorscheme':'dimgrayCarbon','radius':.125}})\n",
        "v.addModelsAsFrames(open('docked.sdf','rt').read())\n",
        "v.setStyle({'model':2},{'stick':{'colorscheme':'greenCarbon'}})\n",
        "v.animate({'interval':1000})\n",
        "v.zoomTo({'model':1})\n",
        "v.rotate(90)"
      ],
      "execution_count": null,
      "outputs": []
    },
    {
      "cell_type": "markdown",
      "metadata": {
        "id": "Ho6t5tn_GRyv"
      },
      "source": [
        "Run the necessary commands to dock `l3.sdf`, which is a generated conformer, instead of `lig.pdb` which is the crystal conformer."
      ]
    },
    {
      "cell_type": "code",
      "metadata": {
        "id": "lyyNaz3gE_jc"
      },
      "source": [
        "!./gnina"
      ],
      "execution_count": null,
      "outputs": []
    },
    {
      "cell_type": "markdown",
      "metadata": {
        "id": "Ub6H8i7AG025"
      },
      "source": [
        "Evaluate RMSD of docked poses to crystal."
      ]
    },
    {
      "cell_type": "code",
      "metadata": {
        "id": "PeBHGmyMGfIi"
      },
      "source": [
        "!obrms"
      ],
      "execution_count": null,
      "outputs": []
    },
    {
      "cell_type": "markdown",
      "metadata": {
        "id": "vnBtZrrHMAof"
      },
      "source": [
        "# Timing"
      ]
    },
    {
      "cell_type": "code",
      "metadata": {
        "id": "ML6DZyabG8A0"
      },
      "source": [
        "%%time\n",
        "!./gnina -r rec.pdb -l lig.pdb --autobox_ligand lig.pdb --seed 0 --exhaustiveness 1 > /dev/null 2>&1"
      ],
      "execution_count": null,
      "outputs": []
    },
    {
      "cell_type": "code",
      "metadata": {
        "id": "AmAF1SJLL-Ju"
      },
      "source": [
        "%%time\n",
        "!./gnina -r rec.pdb -l lig.pdb --autobox_ligand lig.pdb --seed 0 --exhaustiveness 4 > /dev/null 2>&1"
      ],
      "execution_count": null,
      "outputs": []
    },
    {
      "cell_type": "code",
      "metadata": {
        "id": "pgvtd2W6MIRM"
      },
      "source": [
        "%%time\n",
        "!./gnina -r rec.pdb -l lig.pdb --autobox_ligand lig.pdb --seed 0 --exhaustiveness 4 --cpu 1 > /dev/null 2>&1"
      ],
      "execution_count": null,
      "outputs": []
    },
    {
      "cell_type": "code",
      "metadata": {
        "id": "utLd1N-vMOU6"
      },
      "source": [
        "!cat /proc/cpuinfo"
      ],
      "execution_count": null,
      "outputs": []
    },
    {
      "cell_type": "markdown",
      "metadata": {
        "id": "HiMDn-MlMsLT"
      },
      "source": [
        "# Scoring"
      ]
    },
    {
      "cell_type": "code",
      "metadata": {
        "id": "mL8ttmo7MiYO"
      },
      "source": [
        "!./gnina --score_only -r rec.pdb -l lig.pdb --verbosity=2"
      ],
      "execution_count": null,
      "outputs": []
    },
    {
      "cell_type": "code",
      "metadata": {
        "id": "pjzHUmQxMvuo"
      },
      "source": [
        "!./gnina --help | grep scoring | head -3"
      ],
      "execution_count": null,
      "outputs": []
    },
    {
      "cell_type": "code",
      "metadata": {
        "id": "fLQS6uGzMzp2"
      },
      "source": [
        "!./gnina --print_terms"
      ],
      "execution_count": null,
      "outputs": []
    },
    {
      "cell_type": "code",
      "metadata": {
        "id": "qcqJMzz9M7fP"
      },
      "source": [
        "open('everything.txt','wt').write('''\n",
        "1.0  ad4_solvation(d-sigma=3.6,_s/q=0.01097,_c=8)  desolvation, s/q is charge dependence\n",
        "1.0  ad4_solvation(d-sigma=3.6,_s/q=0.0,_c=8)\n",
        "1.0  electrostatic(i=1,_^=100,_c=8)\ti is the exponent of the distance, see everything.h for details\n",
        "1.0  electrostatic(i=2,_^=100,_c=8)\n",
        "1.0  gauss(o=0,_w=0.5,_c=8)\t\to is offset, w is width of gaussian\n",
        "1.0  gauss(o=3,_w=2,_c=8)\n",
        "1.0  repulsion(o=0,_c=8)\to is offset of squared distance repulsion\n",
        "1.0  hydrophobic(g=0.5,_b=1.5,_c=8)\t\tg is a good distance, b the bad distance\n",
        "1.0  non_hydrophobic(g=0.5,_b=1.5,_c=8)\tvalue is linearly interpolated between g and b\n",
        "1.0  vdw(i=4,_j=8,_s=0,_^=100,_c=8)\ti and j are LJ exponents\n",
        "1.0  vdw(i=6,_j=12,_s=1,_^=100,_c=8) s is the smoothing, ^ is the cap\n",
        "1.0  non_dir_h_bond(g=-0.7,_b=0,_c=8)\tgood and bad\n",
        "1.0  non_dir_anti_h_bond_quadratic(o=0.4,_c=8) like repulsion, but for hbond, don't use\n",
        "1.0  non_dir_h_bond_lj(o=-0.7,_^=100,_c=8)\tLJ 10-12 potential, capped at ^\n",
        "1.0 acceptor_acceptor_quadratic(o=0,_c=8)\tquadratic potential between hydrogen bond acceptors\n",
        "1.0 donor_donor_quadratic(o=0,_c=8)\tquadratic potential between hydroben bond donors\n",
        "1.0  num_tors_div\tdiv constant terms are not linearly independent\n",
        "1.0  num_heavy_atoms_div\n",
        "1.0  num_heavy_atoms\tthese terms are just added\n",
        "1.0  num_tors_add\n",
        "1.0  num_tors_sqr\n",
        "1.0  num_tors_sqrt\n",
        "1.0  num_hydrophobic_atoms\n",
        "1.0  ligand_length\n",
        "''');"
      ],
      "execution_count": null,
      "outputs": []
    },
    {
      "cell_type": "code",
      "metadata": {
        "id": "6SgwFBMzNFgo"
      },
      "source": [
        "!./gnina -r rec.pdb -l lig.pdb --score_only --custom_scoring everything.txt"
      ],
      "execution_count": null,
      "outputs": []
    },
    {
      "cell_type": "markdown",
      "metadata": {
        "id": "PAPiiaPXNLbI"
      },
      "source": [
        "# CNN Scoring"
      ]
    },
    {
      "cell_type": "code",
      "metadata": {
        "id": "ObN0CEI6NHKQ"
      },
      "source": [
        "!./gnina --help | grep \"cnn arg\" -A 12"
      ],
      "execution_count": null,
      "outputs": []
    },
    {
      "cell_type": "code",
      "metadata": {
        "id": "Yizf6AAnNQ5D"
      },
      "source": [
        "!./gnina --score_only -r rec.pdb -l lig.pdb  | grep CNN"
      ],
      "execution_count": null,
      "outputs": []
    },
    {
      "cell_type": "code",
      "metadata": {
        "id": "c7DWIP3aNSdB"
      },
      "source": [
        "%%time\n",
        "!./gnina -r rec.pdb -l lig.pdb --autobox_ligand lig.pdb --seed 0  > /dev/null 2>&1"
      ],
      "execution_count": null,
      "outputs": []
    },
    {
      "cell_type": "code",
      "metadata": {
        "id": "vTuvFbX5NWfm"
      },
      "source": [
        "%%time\n",
        "!CUDA_VISIBLE_DEVICES= ./gnina -r rec.pdb -l lig.pdb --autobox_ligand lig.pdb --seed 0"
      ],
      "execution_count": null,
      "outputs": []
    },
    {
      "cell_type": "markdown",
      "metadata": {
        "id": "zK6aigYPNfGK"
      },
      "source": [
        "# Whole Protein Docking"
      ]
    },
    {
      "cell_type": "code",
      "metadata": {
        "id": "duG2Ny1gNbpf"
      },
      "source": [
        "!./gnina -r rec.pdb -l lig.pdb --autobox_ligand rec.pdb -o wdocking.sdf.gz --seed 0"
      ],
      "execution_count": null,
      "outputs": []
    },
    {
      "cell_type": "code",
      "metadata": {
        "id": "EElgbxo6NkIs"
      },
      "source": [
        "v = py3Dmol.view(height=400)\n",
        "v.addModel(open('rec.pdb').read())\n",
        "v.setStyle({'cartoon':{},'stick':{'radius':.1}})\n",
        "v.addModel(open('lig.pdb').read())\n",
        "v.setStyle({'model':1},{'stick':{'colorscheme':'dimgrayCarbon','radius':.125}})\n",
        "v.addModelsAsFrames(gzip.open('wdocking.sdf.gz','rt').read())\n",
        "v.setStyle({'model':2},{'stick':{'colorscheme':'greenCarbon'}})\n",
        "v.animate({'interval':1000}); v.zoomTo(); v.rotate(90)"
      ],
      "execution_count": null,
      "outputs": []
    },
    {
      "cell_type": "markdown",
      "metadata": {
        "id": "oik4qs3TOj00"
      },
      "source": [
        "# Flexible Docking"
      ]
    },
    {
      "cell_type": "code",
      "metadata": {
        "id": "UKn-Vu6nN4nz"
      },
      "source": [
        "!wget http://files.rcsb.org/download/4ERK.pdb"
      ],
      "execution_count": null,
      "outputs": []
    },
    {
      "cell_type": "code",
      "metadata": {
        "id": "oxlY70baO5Sp"
      },
      "source": [
        "!grep ATOM 4ERK.pdb > rec2.pdb\n",
        "!obabel rec2.pdb -Orec2.pdb"
      ],
      "execution_count": null,
      "outputs": []
    },
    {
      "cell_type": "code",
      "metadata": {
        "id": "BlWuX33qO6vX"
      },
      "source": [
        "!grep OLO 4ERK.pdb > lig2.pdb"
      ],
      "execution_count": null,
      "outputs": []
    },
    {
      "cell_type": "code",
      "metadata": {
        "id": "QB8oM_p8O836"
      },
      "source": [
        "!./gnina -r rec2.pdb -l lig.pdb --autobox_ligand lig2.pdb --seed 0 -o 3erk_to_4erk.sdf"
      ],
      "execution_count": null,
      "outputs": []
    },
    {
      "cell_type": "code",
      "metadata": {
        "id": "atbgzXQHO-Se"
      },
      "source": [
        "!obrms -firstonly lig.pdb 3erk_to_4erk.sdf"
      ],
      "execution_count": null,
      "outputs": []
    },
    {
      "cell_type": "code",
      "metadata": {
        "id": "_Cbn6hQpPRmg"
      },
      "source": [
        "!./gnina -r rec2.pdb -l lig.pdb --autobox_ligand lig2.pdb --seed 0 -o flexdocked.sdf --flexdist 4 --flexdist_ligand lig2.pdb --out_flex flexout.pdb"
      ],
      "execution_count": null,
      "outputs": []
    },
    {
      "cell_type": "code",
      "metadata": {
        "id": "5ZWLPSucSExv"
      },
      "source": [
        "!obrms -firstonly lig.pdb flexdocked.sdf"
      ],
      "execution_count": null,
      "outputs": []
    },
    {
      "cell_type": "code",
      "metadata": {
        "id": "CYe8hTawSNxa"
      },
      "source": [
        "!./gnina -r rec2.pdb -l lig.pdb --autobox_ligand lig2.pdb --seed 0 -o flexdocked2.sdf --exhaustiveness 16 --flexres A:52,A:103 --out_flex flexout2.pdb"
      ],
      "execution_count": null,
      "outputs": []
    },
    {
      "cell_type": "markdown",
      "metadata": {
        "id": "K49K1WyRbBKp"
      },
      "source": [
        "# Virtual Screening"
      ]
    },
    {
      "cell_type": "code",
      "metadata": {
        "id": "_hEeNFO9SpJl"
      },
      "source": [
        "!wget http://files.rcsb.org/download/4PPS.pdb"
      ],
      "execution_count": null,
      "outputs": []
    },
    {
      "cell_type": "code",
      "metadata": {
        "id": "5xmCNROKbGiu"
      },
      "source": [
        "!grep ^ATOM 4PPS.pdb > errec.pdb"
      ],
      "execution_count": null,
      "outputs": []
    },
    {
      "cell_type": "code",
      "metadata": {
        "id": "TcaTLJ5obg_H"
      },
      "source": [
        "!wget http://bits.csb.pitt.edu/files/workshop_minimized_results.sdf.gz"
      ],
      "execution_count": null,
      "outputs": []
    },
    {
      "cell_type": "code",
      "metadata": {
        "id": "kecn2uqFbH2N"
      },
      "source": [
        "!./gnina -r errec.pdb -l workshop_minimized_results.sdf.gz --minimize -o gnina_scored.sdf.gz --scoring vinardo"
      ],
      "execution_count": null,
      "outputs": []
    },
    {
      "cell_type": "code",
      "metadata": {
        "id": "_LcxM-dDbKsh"
      },
      "source": [
        "from openbabel import pybel\n",
        "import pandas as pd\n",
        "\n",
        "scores = []\n",
        "for mol in pybel.readfile('sdf','gnina_scored.sdf.gz'):\n",
        "    scores.append({'title': mol.title,\n",
        "                   'CNNscore': float(mol.data['CNNscore']),\n",
        "                   'CNNaffinity': float(mol.data['CNNaffinity']),\n",
        "                   'Vinardo': float(mol.data['minimizedAffinity'])})\n",
        "scores = pd.DataFrame(scores)\n",
        "scores['label'] = scores.title.str.contains('active')\n",
        "\n",
        "scores"
      ],
      "execution_count": null,
      "outputs": []
    },
    {
      "cell_type": "code",
      "metadata": {
        "id": "2h0DHkeeb5OL"
      },
      "source": [
        "from sklearn.metrics import roc_auc_score, roc_curve, auc\n",
        "import matplotlib.pyplot as plt\n",
        "%matplotlib inline"
      ],
      "execution_count": null,
      "outputs": []
    },
    {
      "cell_type": "code",
      "metadata": {
        "id": "nJ0w97M2g6ul"
      },
      "source": [
        "plt.figure(dpi=150)\n",
        "plt.plot([0,1],[0,1],'k--',alpha=0.5,linewidth=1)\n",
        "fpr,tpr,_ = roc_curve(scores.label,-scores.Vinardo)\n",
        "plt.plot(fpr,tpr,label=\"Vinardo (AUC = %.2f)\"%auc(fpr,tpr))\n",
        "fpr,tpr,_ = roc_curve(scores.label,scores.CNNaffinity)\n",
        "plt.plot(fpr,tpr,label=\"CNNaffinity (AUC = %.2f)\"%auc(fpr,tpr))\n",
        "fpr,tpr,_ = roc_curve(scores.label, scores.CNNaffinity.rank() + (-scores.Vinardo).rank())\n",
        "plt.plot(fpr,tpr,label=\"Consensus (AUC = %.2f)\"%auc(fpr,tpr))\n",
        "plt.legend(loc='lower right')\n",
        "plt.xlabel('False Positive Rate')\n",
        "plt.ylabel('True Positive Rate')\n",
        "plt.gca().set_aspect('equal')"
      ],
      "execution_count": null,
      "outputs": []
    },
    {
      "cell_type": "markdown",
      "metadata": {
        "id": "Q53Z8bxIiXlI"
      },
      "source": [
        "# Custom Scoring"
      ]
    },
    {
      "cell_type": "code",
      "metadata": {
        "id": "Ux-swSoLiVwD"
      },
      "source": [
        "!./gnina -r errec.pdb -l workshop_minimized_results.sdf.gz --score_only --custom_scoring everything.txt > scores.txt 2>&1"
      ],
      "execution_count": null,
      "outputs": []
    },
    {
      "cell_type": "code",
      "metadata": {
        "id": "fOQKdbEyiayO"
      },
      "source": [
        "!head -30 scores.txt"
      ],
      "execution_count": null,
      "outputs": []
    },
    {
      "cell_type": "code",
      "metadata": {
        "id": "ZneO_qlmicW0"
      },
      "source": [
        "import subprocess, io, re\n",
        "terms = pd.read_csv(io.BytesIO(subprocess.check_output(\"grep \\#\\# scores.txt | sed 's/## //'\",shell=True)),delim_whitespace=True)\n",
        "terms[['CNNscore','CNNaffinity','CNNvariance']] = re.findall(r'CNNscore: (\\S+)\\s*CNNaffinity: (\\S+)\\s*CNNvariance: (\\S+)',open('scores.txt').read())\n",
        "terms['label'] = terms.Name.str.contains('active')"
      ],
      "execution_count": null,
      "outputs": []
    },
    {
      "cell_type": "code",
      "metadata": {
        "id": "vXSD-Rg2ihL1"
      },
      "source": [
        "import sklearn\n",
        "from sklearn.linear_model import *\n",
        "\n",
        "X = terms.drop(['Name','label'],axis=1).astype(float) # features\n",
        "Y = terms.label"
      ],
      "execution_count": null,
      "outputs": []
    },
    {
      "cell_type": "code",
      "metadata": {
        "id": "-m9rJN2KikPf"
      },
      "source": [
        "X"
      ],
      "execution_count": null,
      "outputs": []
    },
    {
      "cell_type": "code",
      "metadata": {
        "id": "TWgWg0u8ilif"
      },
      "source": [
        "model = LogisticRegression(solver='liblinear')\n",
        "cvpredict = sklearn.model_selection.cross_val_predict(model, X, Y, method='predict_proba')\n",
        "fpr,tpr,_ = roc_curve(Y,cvpredict[:,1])\n",
        "fig,ax = plt.subplots(1,1,dpi=100)\n",
        "ax.plot(fpr,tpr,label=\"Combined CV ROC (AUC=%.2f)\"%auc(fpr,tpr))\n",
        "plt.xlabel('False Positive Rate')\n",
        "plt.ylabel('True Positive Rate')\n",
        "plt.legend()\n",
        "ax.set_aspect('equal');"
      ],
      "execution_count": null,
      "outputs": []
    },
    {
      "cell_type": "code",
      "metadata": {
        "id": "roP156aoinz9"
      },
      "source": [],
      "execution_count": null,
      "outputs": []
    }
  ]
}